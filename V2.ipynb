{
  "cells": [
    {
      "cell_type": "code",
      "source": [
        "from azure.identity import DefaultAzureCredential\r\n",
        "from azure.ai.ml import MLClient\r\n",
        "\r\n",
        "credential = DefaultAzureCredential()\r\n",
        "\r\n",
        "ml_client = MLClient.from_config(credential)"
      ],
      "outputs": [
        {
          "output_type": "stream",
          "name": "stderr",
          "text": "Found the config file in: /config.json\n"
        }
      ],
      "execution_count": 1,
      "metadata": {
        "gather": {
          "logged": 1670346748590
        }
      }
    },
    {
      "cell_type": "code",
      "source": [
        "from azure.ai.ml.constants import AssetTypes\r\n",
        "from azure.ai.ml import automl, Input\r\n",
        "\r\n",
        "# A. Create MLTable for training data from your local directory\r\n",
        "my_training_data_input = Input(\r\n",
        "    type=AssetTypes.MLTABLE, path=\"./data/pdf_train.csv\"\r\n",
        ")\r\n",
        "\r\n",
        "# B. Remote MLTable definition\r\n",
        "my_training_data_input  = Input(type=AssetTypes.MLTABLE, path=\"azureml://datastores/workspaceblobstore/paths/Classification/Train\")\r\n"
      ],
      "outputs": [],
      "execution_count": 4,
      "metadata": {
        "jupyter": {
          "source_hidden": false,
          "outputs_hidden": false
        },
        "nteract": {
          "transient": {
            "deleting": false
          }
        },
        "gather": {
          "logged": 1670347158157
        }
      }
    },
    {
      "cell_type": "code",
      "source": [
        "my_training_data_input"
      ],
      "outputs": [
        {
          "output_type": "execute_result",
          "execution_count": 5,
          "data": {
            "text/plain": "{'type': 'mltable', 'path': 'azureml://datastores/workspaceblobstore/paths/Classification/Train'}"
          },
          "metadata": {}
        }
      ],
      "execution_count": 5,
      "metadata": {
        "jupyter": {
          "source_hidden": false,
          "outputs_hidden": false
        },
        "nteract": {
          "transient": {
            "deleting": false
          }
        },
        "gather": {
          "logged": 1670347159679
        }
      }
    },
    {
      "cell_type": "code",
      "source": [
        "classification_job = automl.classification(\r\n",
        "    compute=my_compute_name,\r\n",
        "    experiment_name=my_exp_name,\r\n",
        "    training_data=my_training_data_input,\r\n",
        "    target_column_name=\"y\",\r\n",
        "    primary_metric=\"accuracy\",\r\n",
        "    n_cross_validations=5,\r\n",
        "    enable_model_explainability=True,\r\n",
        "    tags={\"my_custom_tag\": \"My custom value\"}\r\n",
        ")\r\n",
        "\r\n",
        "# Limits are all optional\r\n",
        "\r\n",
        "classification_job.set_limits(\r\n",
        "    timeout_minutes=600, \r\n",
        "    trial_timeout_minutes=20, \r\n",
        "    max_trials=5,\r\n",
        "    enable_early_termination=True,\r\n",
        ")\r\n",
        "\r\n",
        "# Training properties are optional\r\n",
        "classification_job.set_training(\r\n",
        "    blocked_training_algorithms=[\"LogisticRegression\"], \r\n",
        "    enable_onnx_compatible_models=True\r\n",
        ")\r\n"
      ],
      "outputs": [],
      "execution_count": null,
      "metadata": {
        "jupyter": {
          "source_hidden": false,
          "outputs_hidden": false
        },
        "nteract": {
          "transient": {
            "deleting": false
          }
        }
      }
    }
  ],
  "metadata": {
    "kernelspec": {
      "name": "python310-sdkv2",
      "language": "python",
      "display_name": "Python 3.10 - SDK V2"
    },
    "language_info": {
      "name": "python",
      "version": "3.10.6",
      "mimetype": "text/x-python",
      "codemirror_mode": {
        "name": "ipython",
        "version": 3
      },
      "pygments_lexer": "ipython3",
      "nbconvert_exporter": "python",
      "file_extension": ".py"
    },
    "kernel_info": {
      "name": "python310-sdkv2"
    },
    "microsoft": {
      "host": {
        "AzureML": {
          "notebookHasBeenCompleted": true
        }
      }
    },
    "nteract": {
      "version": "nteract-front-end@1.0.0"
    }
  },
  "nbformat": 4,
  "nbformat_minor": 2
}