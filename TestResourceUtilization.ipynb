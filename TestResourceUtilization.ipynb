{
 "cells": [
  {
   "cell_type": "code",
   "execution_count": null,
   "metadata": {},
   "outputs": [],
   "source": [
    "import azureml.core\n",
    "from azureml.core import Workspace, Environment, Experiment, Datastore, Dataset, ScriptRunConfig\n",
    "\n",
    "# Check core SDK version number\n",
    "print(\"SDK version:\", azureml.core.VERSION)\n"
   ]
  },
  {
   "cell_type": "code",
   "execution_count": null,
   "metadata": {},
   "outputs": [],
   "source": [
    "import torch\n",
    "from transformers import GPT2Tokenizer, GPT2LMHeadModel\n"
   ]
  },
  {
   "cell_type": "code",
   "execution_count": null,
   "metadata": {},
   "outputs": [],
   "source": [
    "from datasets import load_dataset\n",
    "\n",
    "dataset = load_dataset(\"yelp_review_full\")\n",
    "dataset[\"train\"][100]"
   ]
  },
  {
   "cell_type": "code",
   "execution_count": null,
   "metadata": {},
   "outputs": [],
   "source": [
    "dataset.shape"
   ]
  },
  {
   "cell_type": "code",
   "execution_count": null,
   "metadata": {},
   "outputs": [],
   "source": [
    "from transformers import AutoTokenizer\n",
    "\n",
    "tokenizer = AutoTokenizer.from_pretrained(\"bert-base-cased\")\n",
    "\n",
    "\n",
    "def tokenize_function(examples):\n",
    "    return tokenizer(examples[\"text\"], padding=\"max_length\", truncation=True)\n",
    "\n",
    "\n",
    "tokenized_datasets = dataset.map(tokenize_function, batched=True)"
   ]
  },
  {
   "cell_type": "code",
   "execution_count": null,
   "metadata": {},
   "outputs": [],
   "source": [
    "small_train_dataset = tokenized_datasets[\"train\"].shuffle(seed=42).select(range(1000))\n",
    "small_eval_dataset = tokenized_datasets[\"test\"].shuffle(seed=42).select(range(1000))"
   ]
  },
  {
   "cell_type": "code",
   "execution_count": null,
   "metadata": {},
   "outputs": [],
   "source": [
    "from transformers import AutoModelForSequenceClassification\n",
    "\n",
    "model = AutoModelForSequenceClassification.from_pretrained(\"bert-base-cased\", num_labels=5)"
   ]
  },
  {
   "cell_type": "code",
   "execution_count": null,
   "metadata": {},
   "outputs": [],
   "source": [
    "from transformers import TrainingArguments\n",
    "\n",
    "training_args = TrainingArguments(output_dir=\"test_trainer\")"
   ]
  },
  {
   "cell_type": "code",
   "execution_count": null,
   "metadata": {},
   "outputs": [],
   "source": [
    "import numpy as np\n",
    "import evaluate\n",
    "\n",
    "metric = evaluate.load(\"accuracy\")"
   ]
  },
  {
   "cell_type": "code",
   "execution_count": null,
   "metadata": {},
   "outputs": [],
   "source": [
    "def compute_metrics(eval_pred):\n",
    "    logits, labels = eval_pred\n",
    "    predictions = np.argmax(logits, axis=-1)\n",
    "    return metric.compute(predictions=predictions, references=labels)"
   ]
  },
  {
   "cell_type": "code",
   "execution_count": null,
   "metadata": {},
   "outputs": [],
   "source": [
    "from transformers import TrainingArguments, Trainer\n",
    "\n",
    "training_args = TrainingArguments(output_dir=\"test_trainer\", evaluation_strategy=\"epoch\", num_train_epochs=1)"
   ]
  },
  {
   "cell_type": "code",
   "execution_count": null,
   "metadata": {},
   "outputs": [],
   "source": [
    "ws = Workspace.from_config()\n",
    "print(ws.name, ws.resource_group, ws.location, ws.subscription_id, sep = '\\n')\n",
    "\n",
    "exp = Experiment(ws, name=\"collect_metric\")"
   ]
  },
  {
   "cell_type": "code",
   "execution_count": null,
   "metadata": {},
   "outputs": [],
   "source": [
    "import time\n",
    "import threading\n",
    "\n",
    "from nvitop import ResourceMetricCollector\n",
    "from nvitop import Device, GpuProcess, NA, colored\n",
    "\n",
    "def collect_in_background(\n",
    "    on_collect,\n",
    "    collector=None,\n",
    "    interval=None,\n",
    "    *,\n",
    "    on_start=None,\n",
    "    on_stop=None,\n",
    "    tag='',\n",
    "    start=True,\n",
    "):\n",
    "    if collector is None:\n",
    "        collector = ResourceMetricCollector()\n",
    "    if interval is None:\n",
    "        interval = collector.interval\n",
    "    interval = min(interval, collector.interval)\n",
    "\n",
    "    def target():\n",
    "        if on_start is not None:\n",
    "            on_start(collector)\n",
    "        try:\n",
    "            with collector(tag):\n",
    "                try:\n",
    "                    while on_collect(collector.collect()):\n",
    "                        time.sleep(interval)\n",
    "                except KeyboardInterrupt:\n",
    "                    pass\n",
    "        finally:\n",
    "            if on_stop is not None:\n",
    "                on_stop(collector)\n",
    "\n",
    "    daemon = threading.Thread(target=target, daemon=True)\n",
    "    if start:\n",
    "        daemon.start()\n",
    "    return daemon"
   ]
  },
  {
   "cell_type": "code",
   "execution_count": null,
   "metadata": {},
   "outputs": [],
   "source": [
    "# base_metrics = collector.collect()\n",
    "# metrics_vals = [x.split(' ')[0] for x in base_metrics.keys() if 'mean' in x and not 'load_average' in x]\n",
    "\n",
    "from tqdm.notebook import tqdm\n",
    "\n",
    "def set_tqdm():\n",
    "    tempo_collector = ResourceMetricCollector()\n",
    "    with tempo_collector(tag=''):\n",
    "        base_metrics = tempo_collector.collect()\n",
    "        \n",
    "    metrics_vals = [x.split(' ')[0] for x in base_metrics.keys() if 'mean' in x and not 'load_average' in x]    \n",
    "    print('================= METRICS =================')\n",
    "    print(metrics_vals)\n",
    "    print('================= ******* =================')\n",
    "\n",
    "    tempo_collector.stop()\n",
    "\n",
    "    tqdms = {}\n",
    "    for x in metrics_vals:\n",
    "        tqdms[x] = tqdm(total=0, position=2, bar_format='{desc}')\n",
    "        tqdms[x].set_description_str(f\"{x} - {0}\")\n",
    "    \n",
    "    return tqdms"
   ]
  },
  {
   "cell_type": "code",
   "execution_count": null,
   "metadata": {},
   "outputs": [],
   "source": [
    "from transformers.integrations import AzureMLCallback, MLflowCallback\n",
    "\n",
    "trainer = Trainer(\n",
    "    model=model,\n",
    "    args=training_args,\n",
    "    train_dataset=small_train_dataset,\n",
    "    eval_dataset=small_eval_dataset,\n",
    "    compute_metrics=compute_metrics,\n",
    ")\n",
    "\n",
    "trainer.callback_handler.remove_callback(MLflowCallback)"
   ]
  },
  {
   "cell_type": "code",
   "execution_count": null,
   "metadata": {},
   "outputs": [],
   "source": [
    "li_logger = []\n",
    "\n",
    "tqdms = set_tqdm()\n",
    "\n",
    "run = exp.start_logging()\n",
    "\n",
    "def on_collect(metrics):\n",
    "    li_logger.append(metrics)\n",
    "    for key in metrics.keys():\n",
    "        if 'mean' in key and not 'load_average' in key:\n",
    "            symbole = '%' if '%' in key else ''\n",
    "            key_name = key.split(' ')[0]\n",
    "            if key_name in tqdms:\n",
    "                value = round(metrics[key], 2) if metrics[key] else 0\n",
    "                run.log(key_name, value)\n",
    "                tqdms[key_name].set_description_str(f\"{key_name} - [{value} {symbole}]\")\n",
    "    return True\n",
    "\n",
    "def on_stop(collector):\n",
    "    print('logging is completed')\n",
    "\n",
    "background_collector = ResourceMetricCollector()\n",
    "daemon = collect_in_background(on_collect, background_collector, interval=5.0, on_stop=on_stop)\n",
    "\n",
    "trainer.train()\n"
   ]
  },
  {
   "cell_type": "code",
   "execution_count": null,
   "metadata": {},
   "outputs": [],
   "source": [
    "run.complete()"
   ]
  },
  {
   "cell_type": "code",
   "execution_count": null,
   "metadata": {},
   "outputs": [],
   "source": []
  }
 ],
 "metadata": {
  "kernelspec": {
   "display_name": "Python 3.8.5 ('azureml_py38_PT_TF')",
   "language": "python",
   "name": "python3"
  },
  "language_info": {
   "codemirror_mode": {
    "name": "ipython",
    "version": 3
   },
   "file_extension": ".py",
   "mimetype": "text/x-python",
   "name": "python",
   "nbconvert_exporter": "python",
   "pygments_lexer": "ipython3",
   "version": "3.8.5"
  },
  "orig_nbformat": 4,
  "vscode": {
   "interpreter": {
    "hash": "9169f1d4e16acc976bbb73e323b0dbdf23f1c55e833fb2befffc4fb50ac2de2f"
   }
  }
 },
 "nbformat": 4,
 "nbformat_minor": 2
}
