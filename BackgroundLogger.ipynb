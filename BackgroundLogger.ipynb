{
 "cells": [
  {
   "cell_type": "code",
   "execution_count": 1,
   "metadata": {},
   "outputs": [],
   "source": [
    "import time\n",
    "import threading\n",
    "\n",
    "from nvitop import ResourceMetricCollector\n",
    "from nvitop import Device, GpuProcess, NA, colored\n",
    "\n",
    "def collect_in_background(\n",
    "    on_collect,\n",
    "    collector=None,\n",
    "    interval=None,\n",
    "    *,\n",
    "    on_start=None,\n",
    "    on_stop=None,\n",
    "    tag='',\n",
    "    start=True,\n",
    "):\n",
    "    if collector is None:\n",
    "        collector = ResourceMetricCollector()\n",
    "    if interval is None:\n",
    "        interval = collector.interval\n",
    "    interval = min(interval, collector.interval)\n",
    "\n",
    "    def target():\n",
    "        if on_start is not None:\n",
    "            on_start(collector)\n",
    "        try:\n",
    "            with collector(tag):\n",
    "                try:\n",
    "                    while on_collect(collector.collect()):\n",
    "                        time.sleep(interval)\n",
    "                except KeyboardInterrupt:\n",
    "                    pass\n",
    "        finally:\n",
    "            if on_stop is not None:\n",
    "                on_stop(collector)\n",
    "\n",
    "    daemon = threading.Thread(target=target, daemon=True)\n",
    "    if start:\n",
    "        daemon.start()\n",
    "    return daemon"
   ]
  },
  {
   "cell_type": "code",
   "execution_count": 2,
   "metadata": {},
   "outputs": [],
   "source": [
    "import logging\n",
    "\n",
    "def set_logger():\n",
    "    # create logger\n",
    "    logger = logging.getLogger(__name__)\n",
    "    \n",
    "    handlers = logger.handlers\n",
    "    [logger.removeHandler(x) for x in handlers]\n",
    "    \n",
    "    # set log level for all handlers to debug\n",
    "    logger.setLevel(logging.DEBUG)\n",
    "\n",
    "    # create console handler and set level to debug\n",
    "    # best for development or debugging\n",
    "    consoleHandler = logging.StreamHandler()\n",
    "    consoleHandler.setLevel(logging.DEBUG)\n",
    "\n",
    "    # create formatter\n",
    "    formatter = logging.Formatter('%(asctime)s - %(name)s - %(levelname)s - %(message)s')\n",
    "\n",
    "    # add formatter to ch\n",
    "    consoleHandler.setFormatter(formatter)\n",
    "\n",
    "    # add ch to logger\n",
    "    logger.addHandler(consoleHandler)\n",
    "\n",
    "    ###################\n",
    "    # USE LOGGER\n",
    "    ###################\n",
    "\n",
    "    # example usage\n",
    "\n",
    "    return logger"
   ]
  },
  {
   "cell_type": "code",
   "execution_count": 3,
   "metadata": {},
   "outputs": [
    {
     "name": "stderr",
     "output_type": "stream",
     "text": [
      "2022-11-13 04:48:42,669 - __main__ - DEBUG - debug message\n",
      "2022-11-13 04:48:42,670 - __main__ - INFO - info message\n",
      "2022-11-13 04:48:42,671 - __main__ - WARNING - warn message\n",
      "2022-11-13 04:48:42,672 - __main__ - ERROR - error message\n",
      "2022-11-13 04:48:42,673 - __main__ - CRITICAL - critical message\n"
     ]
    }
   ],
   "source": [
    "logger = set_logger()\n",
    "\n",
    "logger.debug('debug message')\n",
    "logger.info('info message')\n",
    "logger.warning('warn message')\n",
    "logger.error('error message')\n",
    "logger.critical('critical message')"
   ]
  },
  {
   "cell_type": "code",
   "execution_count": 4,
   "metadata": {},
   "outputs": [],
   "source": [
    "# base_metrics = collector.collect()\n",
    "# metrics_vals = [x.split(' ')[0] for x in base_metrics.keys() if 'mean' in x and not 'load_average' in x]\n",
    "\n",
    "from tqdm.notebook import tqdm\n",
    "\n",
    "def set_tqdm():\n",
    "    tempo_collector = ResourceMetricCollector()\n",
    "    with tempo_collector(tag=''):\n",
    "        base_metrics = tempo_collector.collect()\n",
    "        \n",
    "    metrics_vals = [x.split(' ')[0] for x in base_metrics.keys() if 'mean' in x and not 'load_average' in x]    \n",
    "\n",
    "    tempo_collector.stop()\n",
    "\n",
    "    tqdms = {}\n",
    "    for x in metrics_vals:\n",
    "        tqdms[x] = tqdm(total=0, position=2, bar_format='{desc}')\n",
    "        tqdms[x].set_description_str(f\"{x} - {0}\")\n",
    "    \n",
    "    return tqdms"
   ]
  },
  {
   "cell_type": "code",
   "execution_count": 5,
   "metadata": {},
   "outputs": [
    {
     "data": {
      "application/vnd.jupyter.widget-view+json": {
       "model_id": "6b748462dd8244ed9f09741111be59c7",
       "version_major": 2,
       "version_minor": 0
      },
      "text/plain": []
     },
     "metadata": {},
     "output_type": "display_data"
    },
    {
     "data": {
      "application/vnd.jupyter.widget-view+json": {
       "model_id": "49644018e4814d30985d0a975924b6ba",
       "version_major": 2,
       "version_minor": 0
      },
      "text/plain": []
     },
     "metadata": {},
     "output_type": "display_data"
    },
    {
     "data": {
      "application/vnd.jupyter.widget-view+json": {
       "model_id": "8b38a9d314864de9810ced1fbf21cc3c",
       "version_major": 2,
       "version_minor": 0
      },
      "text/plain": []
     },
     "metadata": {},
     "output_type": "display_data"
    },
    {
     "data": {
      "application/vnd.jupyter.widget-view+json": {
       "model_id": "af88426738dc4dca9a8466fea861a05b",
       "version_major": 2,
       "version_minor": 0
      },
      "text/plain": []
     },
     "metadata": {},
     "output_type": "display_data"
    },
    {
     "data": {
      "application/vnd.jupyter.widget-view+json": {
       "model_id": "90ce19ea15a74d958402ffb56b104b8a",
       "version_major": 2,
       "version_minor": 0
      },
      "text/plain": []
     },
     "metadata": {},
     "output_type": "display_data"
    },
    {
     "data": {
      "application/vnd.jupyter.widget-view+json": {
       "model_id": "2c078f9cd599429084f4732f270a8cb4",
       "version_major": 2,
       "version_minor": 0
      },
      "text/plain": []
     },
     "metadata": {},
     "output_type": "display_data"
    },
    {
     "data": {
      "application/vnd.jupyter.widget-view+json": {
       "model_id": "91e8cd486d94426fbaca93376251d228",
       "version_major": 2,
       "version_minor": 0
      },
      "text/plain": []
     },
     "metadata": {},
     "output_type": "display_data"
    },
    {
     "data": {
      "application/vnd.jupyter.widget-view+json": {
       "model_id": "0001e56099dd44dc9520ff547ca54926",
       "version_major": 2,
       "version_minor": 0
      },
      "text/plain": []
     },
     "metadata": {},
     "output_type": "display_data"
    },
    {
     "data": {
      "application/vnd.jupyter.widget-view+json": {
       "model_id": "e5de1e3c81d84409b4dca0e9683b00ec",
       "version_major": 2,
       "version_minor": 0
      },
      "text/plain": []
     },
     "metadata": {},
     "output_type": "display_data"
    },
    {
     "data": {
      "application/vnd.jupyter.widget-view+json": {
       "model_id": "8852bb242e50438492b878bf594d1a41",
       "version_major": 2,
       "version_minor": 0
      },
      "text/plain": []
     },
     "metadata": {},
     "output_type": "display_data"
    },
    {
     "data": {
      "application/vnd.jupyter.widget-view+json": {
       "model_id": "08ad5ce193a3487ea6850682a0ec5cf4",
       "version_major": 2,
       "version_minor": 0
      },
      "text/plain": []
     },
     "metadata": {},
     "output_type": "display_data"
    },
    {
     "data": {
      "application/vnd.jupyter.widget-view+json": {
       "model_id": "5a9cb26e98e44b0a80d5ce40b90c0718",
       "version_major": 2,
       "version_minor": 0
      },
      "text/plain": []
     },
     "metadata": {},
     "output_type": "display_data"
    },
    {
     "data": {
      "application/vnd.jupyter.widget-view+json": {
       "model_id": "1905e0bb8a0c4b028c9124b1fd3425c5",
       "version_major": 2,
       "version_minor": 0
      },
      "text/plain": []
     },
     "metadata": {},
     "output_type": "display_data"
    }
   ],
   "source": [
    "li_logger = []\n",
    "\n",
    "tqdms = set_tqdm()\n",
    "\n",
    "def on_collect(metrics):\n",
    "    for key in metrics.keys():\n",
    "        # print(key)\n",
    "        if 'mean' in key and not 'load_average' in key:\n",
    "            tqdms[key.split(' ')[0]].set_description_str(f\"{key.split(' ')[0]} - {metrics[key]}\")\n",
    "                \n",
    "    # if logger.is_closed():  # closed manually by user\n",
    "    #     return False\n",
    "    # logger.log(metrics)\n",
    "    # logger.info(metrics)\n",
    "    li_logger.append(metrics)\n",
    "    return True\n",
    "\n",
    "def on_stop(collector):\n",
    "    print('logging is completed')\n",
    "    # if not logger.is_closed():\n",
    "    #     logger.close()  # cleanup\n",
    "\n",
    "background_collector = ResourceMetricCollector()\n",
    "daemon = collect_in_background(on_collect, background_collector, interval=5.0, on_stop=on_stop)\n",
    "\n",
    "for epoch in range(100):\n",
    "    time.sleep(1)\n",
    "    # Do something\n",
    "    for batch in range(100):\n",
    "        # Do something\n",
    "        pass\n",
    "\n",
    "for x in tqdms:\n",
    "    tqdms[x].close()"
   ]
  },
  {
   "cell_type": "code",
   "execution_count": null,
   "metadata": {},
   "outputs": [],
   "source": []
  }
 ],
 "metadata": {
  "kernelspec": {
   "display_name": "Python 3.8.5 ('azureml_py38_PT_TF')",
   "language": "python",
   "name": "python3"
  },
  "language_info": {
   "codemirror_mode": {
    "name": "ipython",
    "version": 3
   },
   "file_extension": ".py",
   "mimetype": "text/x-python",
   "name": "python",
   "nbconvert_exporter": "python",
   "pygments_lexer": "ipython3",
   "version": "3.8.5"
  },
  "orig_nbformat": 4,
  "vscode": {
   "interpreter": {
    "hash": "9169f1d4e16acc976bbb73e323b0dbdf23f1c55e833fb2befffc4fb50ac2de2f"
   }
  }
 },
 "nbformat": 4,
 "nbformat_minor": 2
}
