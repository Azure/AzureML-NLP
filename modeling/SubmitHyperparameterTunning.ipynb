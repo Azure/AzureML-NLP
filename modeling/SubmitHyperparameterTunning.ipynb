{
  "cells": [
    {
      "cell_type": "code",
      "execution_count": 1,
      "metadata": {
        "gather": {
          "logged": 1660711678749
        }
      },
      "outputs": [],
      "source": [
        "%matplotlib inline\n",
        "import numpy as np\n",
        "import os\n",
        "import matplotlib.pyplot as plt\n"
      ]
    },
    {
      "cell_type": "code",
      "execution_count": 2,
      "metadata": {
        "gather": {
          "logged": 1660711681994
        },
        "jupyter": {
          "outputs_hidden": false,
          "source_hidden": false
        },
        "nteract": {
          "transient": {
            "deleting": false
          }
        }
      },
      "outputs": [
        {
          "name": "stdout",
          "output_type": "stream",
          "text": [
            "Azure ML SDK Version:  1.44.0\n",
            "MLflow version: 1.26.1\n"
          ]
        }
      ],
      "source": [
        "import azureml\n",
        "import mlflow\n",
        "from azureml.core import Workspace, Dataset, Environment\n",
        "\n",
        "# check core SDK version number\n",
        "print(\"Azure ML SDK Version: \", azureml.core.VERSION)\n",
        "print(\"MLflow version:\", mlflow.version.VERSION)\n"
      ]
    },
    {
      "cell_type": "code",
      "execution_count": 3,
      "metadata": {
        "gather": {
          "logged": 1660711682841
        },
        "jupyter": {
          "outputs_hidden": false,
          "source_hidden": false
        },
        "nteract": {
          "transient": {
            "deleting": false
          }
        }
      },
      "outputs": [
        {
          "name": "stdout",
          "output_type": "stream",
          "text": [
            "Workspace name: scsccps-dsai-aide-dev-mlw\n",
            "Azure region: canadacentral\n",
            "Subscription id: 105efa68-0ff4-486f-ae3a-86e28a447237\n",
            "Resource group: scsc-dsai-aide-dev-rg\n"
          ]
        }
      ],
      "source": [
        "ws = Workspace.from_config()\n",
        "# mlflow.set_tracking_uri(ws.get_mlflow_tracking_uri())\n",
        "print('Workspace name: ' + ws.name, \n",
        "      'Azure region: ' + ws.location, \n",
        "      'Subscription id: ' + ws.subscription_id, \n",
        "      'Resource group: ' + ws.resource_group, sep='\\n')\n"
      ]
    },
    {
      "cell_type": "code",
      "execution_count": 4,
      "metadata": {
        "gather": {
          "logged": 1660711683041
        },
        "jupyter": {
          "outputs_hidden": false,
          "source_hidden": false
        },
        "nteract": {
          "transient": {
            "deleting": false
          }
        }
      },
      "outputs": [],
      "source": [
        "from azureml.core import Experiment\n",
        "\n",
        "script_folder = '../project'\n",
        "# os.makedirs(script_folder, exist_ok=True)\n",
        "\n",
        "exp = Experiment(workspace=ws, name='transformer_hp')\n",
        "# mlflow.set_experiment('transformer_hp')"
      ]
    },
    {
      "cell_type": "code",
      "execution_count": 5,
      "metadata": {
        "gather": {
          "logged": 1660711683623
        },
        "jupyter": {
          "outputs_hidden": false,
          "source_hidden": false
        },
        "nteract": {
          "transient": {
            "deleting": false
          }
        }
      },
      "outputs": [],
      "source": [
        "ds_train = Dataset.get_by_name(ws, name=\"owner_g_classfication_train\", version=21)\n",
        "ds_val = Dataset.get_by_name(ws, name=\"owner_g_classfication_val\", version=21)\n",
        "ds_test = Dataset.get_by_name(ws, name=\"owner_g_classfication_test\", version=21)\n",
        "ds_temporal_test = Dataset.get_by_name(ws, name=\"owner_g_classfication_temporal_test\", version=16)\n"
      ]
    },
    {
      "cell_type": "code",
      "execution_count": 6,
      "metadata": {
        "gather": {
          "logged": 1660711683776
        },
        "jupyter": {
          "outputs_hidden": false,
          "source_hidden": false
        },
        "nteract": {
          "transient": {
            "deleting": false
          }
        }
      },
      "outputs": [
        {
          "name": "stdout",
          "output_type": "stream",
          "text": [
            "{'top': '120', 'total_records': '142820', 'period': 'REPORT_MONTH >= 201808', 'ratio': '80%', 'description': 'all records since [201808] but OTHER from [202107]', 'valid_period': '202105', 'logic': 'v4', 'owner groups': \"['DC000203', 'DC000130', 'DC000216', 'NW000400', 'DC000132', 'DC000141', 'NW000414', 'NW000403', 'OTHER', 'ENT00005', 'NW000438', 'DC000200', 'EDC00054', 'ITS00313', 'SM000562', 'ITS00374', 'DC000107', 'NW000417', 'DC000111', 'DC000133', 'DC000222', 'ITS00330', 'DC000202', 'NW000429', 'EDC00089', 'ITS00335', 'ITS00380', 'DC000139', 'DC000178', 'SM000537', 'ITS00368', 'ITS00306', 'DC000152', 'NW000433', 'NW000459', 'ITS00343', 'DC000113', 'DC000115', 'NW000489', 'ITS00376', 'ITS00340', 'NW000420', 'ITS00341', 'DC000205', 'DC000117', 'DC000210', 'NW000404', 'ITS00326', 'DC000119', 'EDC00029', 'ITS00345', 'DC000140', 'NW000453', 'EDC00095', 'DC000127', 'DC000188', 'DC000209', 'NW000405', 'DC000179', 'DC000236', 'ITS00375', 'DC000155', 'DC000191', 'SM000557', 'SM000502', 'EDC00006', 'NW000428', 'NW000508', 'ITS00332', 'NW000483', 'ITS00381', 'DC000135', 'DC000198', 'NW000448', 'EDC00031', 'DC000237', 'DC000108', 'DC000242', 'NW000481', 'NW000509', 'DC000122', 'NS000115', 'NW000463', 'DC000128', 'DC000224', 'ITS00344', 'NW000430', 'NS000116', 'DC000129', 'NW000431', 'SM000585', 'EDC00075', 'ITS00373', 'NS000117', 'DC000254', 'DC000223', 'ITS00327', 'DC000131', 'DC000221', 'EDC00025', 'ITS00378', 'DC000110', 'SM000588', 'EDC00024', 'EDC00040', 'NW000444', 'NW000521', 'DC000246', 'ITS00108', 'ITS00342', 'NW000490', 'NW000503', 'NW000449', 'SM000586', 'DC000257', 'DC000176', 'ITS00325', 'DC000279', 'DC000263', 'NW000517', 'DC000262']\"}: V21\n",
            "{'top': '120', 'total_records': '17853', 'period': 'REPORT_MONTH >= 201808', 'ratio': '10%', 'description': 'all records since [201808] but OTHER from [202107]', 'valid_period': '202105', 'logic': 'v4', 'owner groups': \"['DC000203', 'DC000130', 'DC000216', 'NW000400', 'DC000132', 'DC000141', 'NW000414', 'NW000403', 'OTHER', 'ENT00005', 'NW000438', 'DC000200', 'EDC00054', 'ITS00313', 'SM000562', 'ITS00374', 'DC000107', 'NW000417', 'DC000111', 'DC000133', 'DC000222', 'ITS00330', 'DC000202', 'NW000429', 'EDC00089', 'ITS00335', 'ITS00380', 'DC000139', 'DC000178', 'SM000537', 'ITS00368', 'ITS00306', 'DC000152', 'NW000433', 'NW000459', 'ITS00343', 'DC000113', 'DC000115', 'NW000489', 'ITS00376', 'ITS00340', 'NW000420', 'ITS00341', 'DC000205', 'DC000117', 'DC000210', 'NW000404', 'ITS00326', 'DC000119', 'EDC00029', 'ITS00345', 'DC000140', 'NW000453', 'EDC00095', 'DC000127', 'DC000188', 'DC000209', 'NW000405', 'DC000179', 'DC000236', 'ITS00375', 'DC000155', 'DC000191', 'SM000557', 'SM000502', 'EDC00006', 'NW000428', 'NW000508', 'ITS00332', 'NW000483', 'ITS00381', 'DC000135', 'DC000198', 'NW000448', 'EDC00031', 'DC000237', 'DC000108', 'DC000242', 'NW000481', 'NW000509', 'DC000122', 'NS000115', 'NW000463', 'DC000128', 'DC000224', 'ITS00344', 'NW000430', 'NS000116', 'DC000129', 'NW000431', 'SM000585', 'EDC00075', 'ITS00373', 'NS000117', 'DC000254', 'DC000223', 'ITS00327', 'DC000131', 'DC000221', 'EDC00025', 'ITS00378', 'DC000110', 'SM000588', 'EDC00024', 'EDC00040', 'NW000444', 'NW000521', 'DC000246', 'ITS00108', 'ITS00342', 'NW000490', 'NW000503', 'NW000449', 'SM000586', 'DC000257', 'DC000176', 'ITS00325', 'DC000279', 'DC000263', 'NW000517', 'DC000262']\"}: V21\n",
            "{'top': '120', 'total_records': '17853', 'period': 'REPORT_MONTH >= 201808', 'ratio': '10%', 'description': 'all records since [201808] but OTHER from [202107]', 'valid_period': '202105', 'logic': 'v4', 'owner groups': \"['DC000203', 'DC000130', 'DC000216', 'NW000400', 'DC000132', 'DC000141', 'NW000414', 'NW000403', 'OTHER', 'ENT00005', 'NW000438', 'DC000200', 'EDC00054', 'ITS00313', 'SM000562', 'ITS00374', 'DC000107', 'NW000417', 'DC000111', 'DC000133', 'DC000222', 'ITS00330', 'DC000202', 'NW000429', 'EDC00089', 'ITS00335', 'ITS00380', 'DC000139', 'DC000178', 'SM000537', 'ITS00368', 'ITS00306', 'DC000152', 'NW000433', 'NW000459', 'ITS00343', 'DC000113', 'DC000115', 'NW000489', 'ITS00376', 'ITS00340', 'NW000420', 'ITS00341', 'DC000205', 'DC000117', 'DC000210', 'NW000404', 'ITS00326', 'DC000119', 'EDC00029', 'ITS00345', 'DC000140', 'NW000453', 'EDC00095', 'DC000127', 'DC000188', 'DC000209', 'NW000405', 'DC000179', 'DC000236', 'ITS00375', 'DC000155', 'DC000191', 'SM000557', 'SM000502', 'EDC00006', 'NW000428', 'NW000508', 'ITS00332', 'NW000483', 'ITS00381', 'DC000135', 'DC000198', 'NW000448', 'EDC00031', 'DC000237', 'DC000108', 'DC000242', 'NW000481', 'NW000509', 'DC000122', 'NS000115', 'NW000463', 'DC000128', 'DC000224', 'ITS00344', 'NW000430', 'NS000116', 'DC000129', 'NW000431', 'SM000585', 'EDC00075', 'ITS00373', 'NS000117', 'DC000254', 'DC000223', 'ITS00327', 'DC000131', 'DC000221', 'EDC00025', 'ITS00378', 'DC000110', 'SM000588', 'EDC00024', 'EDC00040', 'NW000444', 'NW000521', 'DC000246', 'ITS00108', 'ITS00342', 'NW000490', 'NW000503', 'NW000449', 'SM000586', 'DC000257', 'DC000176', 'ITS00325', 'DC000279', 'DC000263', 'NW000517', 'DC000262']\"}: V21\n",
            "{'top': '120', 'total_records': '8099', 'period': 'REPORT_MONTH == 202206', 'description': 'all records since [201808] but OTHER from [202107]', 'valid_period': '202105', 'logic': 'v4', 'owner groups': \"['DC000203', 'DC000130', 'DC000216', 'NW000400', 'DC000132', 'DC000141', 'NW000414', 'NW000403', 'OTHER', 'ENT00005', 'NW000438', 'DC000200', 'EDC00054', 'ITS00313', 'SM000562', 'ITS00374', 'DC000107', 'NW000417', 'DC000111', 'DC000133', 'DC000222', 'ITS00330', 'DC000202', 'NW000429', 'EDC00089', 'ITS00335', 'ITS00380', 'DC000139', 'DC000178', 'SM000537', 'ITS00368', 'ITS00306', 'DC000152', 'NW000433', 'NW000459', 'ITS00343', 'DC000113', 'DC000115', 'NW000489', 'ITS00376', 'ITS00340', 'NW000420', 'ITS00341', 'DC000205', 'DC000117', 'DC000210', 'NW000404', 'ITS00326', 'DC000119', 'EDC00029', 'ITS00345', 'DC000140', 'NW000453', 'EDC00095', 'DC000127', 'DC000188', 'DC000209', 'NW000405', 'DC000179', 'DC000236', 'ITS00375', 'DC000155', 'DC000191', 'SM000557', 'SM000502', 'EDC00006', 'NW000428', 'NW000508', 'ITS00332', 'NW000483', 'ITS00381', 'DC000135', 'DC000198', 'NW000448', 'EDC00031', 'DC000237', 'DC000108', 'DC000242', 'NW000481', 'NW000509', 'DC000122', 'NS000115', 'NW000463', 'DC000128', 'DC000224', 'ITS00344', 'NW000430', 'NS000116', 'DC000129', 'NW000431', 'SM000585', 'EDC00075', 'ITS00373', 'NS000117', 'DC000254', 'DC000223', 'ITS00327', 'DC000131', 'DC000221', 'EDC00025', 'ITS00378', 'DC000110', 'SM000588', 'EDC00024', 'EDC00040', 'NW000444', 'NW000521', 'DC000246', 'ITS00108', 'ITS00342', 'NW000490', 'NW000503', 'NW000449', 'SM000586', 'DC000257', 'DC000176', 'ITS00325', 'DC000279', 'DC000263', 'NW000517', 'DC000262']\"}: V16\n"
          ]
        }
      ],
      "source": [
        "\n",
        "print(f'{ds_train.tags}: V{ds_train.version}')\n",
        "print(f'{ds_val.tags}: V{ds_val.version}')\n",
        "print(f'{ds_test.tags}: V{ds_test.version}')\n",
        "print(f'{ds_temporal_test.tags}: V{ds_temporal_test.version}')\n"
      ]
    },
    {
      "cell_type": "code",
      "execution_count": 7,
      "metadata": {
        "gather": {
          "logged": 1660712290606
        },
        "jupyter": {
          "outputs_hidden": false,
          "source_hidden": false
        },
        "nteract": {
          "transient": {
            "deleting": false
          }
        }
      },
      "outputs": [],
      "source": [
        "from azureml.core.compute import ComputeTarget, AmlCompute\n",
        "from azureml.core.compute_target import ComputeTargetException\n",
        "\n",
        "# choose a name for your cluster\n",
        "cluster_name = \"NC6s-v3-5-nodes\"\n",
        "compute_target = ComputeTarget(workspace=ws, name=cluster_name)"
      ]
    },
    {
      "cell_type": "code",
      "execution_count": 8,
      "metadata": {
        "gather": {
          "logged": 1660712290760
        },
        "jupyter": {
          "outputs_hidden": false,
          "source_hidden": false
        },
        "nteract": {
          "transient": {
            "deleting": false
          }
        }
      },
      "outputs": [],
      "source": [
        "from azureml.core.runconfig import RunConfiguration\n",
        "from azureml.core.conda_dependencies import CondaDependencies\n"
      ]
    },
    {
      "cell_type": "code",
      "execution_count": 9,
      "metadata": {
        "gather": {
          "logged": 1660712304510
        },
        "jupyter": {
          "outputs_hidden": false,
          "source_hidden": false
        },
        "nteract": {
          "transient": {
            "deleting": false
          }
        }
      },
      "outputs": [],
      "source": [
        "env = Environment.get(workspace=ws, name=\"Transformer-DeBerta\")"
      ]
    },
    {
      "cell_type": "code",
      "execution_count": 10,
      "metadata": {
        "gather": {
          "logged": 1660712304675
        },
        "jupyter": {
          "outputs_hidden": false,
          "source_hidden": false
        },
        "nteract": {
          "transient": {
            "deleting": false
          }
        }
      },
      "outputs": [],
      "source": [
        "from azureml.core import ScriptRunConfig\n",
        "\n",
        "args = ['--target-name', 'target',\n",
        "        '--text-field', 'TEXT_FINAL',\n",
        "        '--is-test', 0,\n",
        "        '--is-local', 0,\n",
        "        '--evaluation-strategy', \"epoch\",\n",
        "        ds_train.as_named_input(\"train\"),\n",
        "        ds_val.as_named_input(\"validation\"),\n",
        "        ds_test.as_named_input(\"test\"),\n",
        "        ds_temporal_test.as_named_input(\"temporal_test\")]\n",
        "\n",
        "src = ScriptRunConfig(source_directory=script_folder,\n",
        "                      script='train_transformer.py',\n",
        "                      arguments=args,\n",
        "                      compute_target=compute_target,\n",
        "                      environment=env)\n"
      ]
    },
    {
      "cell_type": "code",
      "execution_count": 17,
      "metadata": {
        "gather": {
          "logged": 1660712799561
        },
        "jupyter": {
          "outputs_hidden": false,
          "source_hidden": false
        },
        "nteract": {
          "transient": {
            "deleting": false
          }
        }
      },
      "outputs": [],
      "source": [
        "from azureml.train.hyperdrive import RandomParameterSampling, BanditPolicy, HyperDriveConfig, PrimaryMetricGoal\n",
        "from azureml.train.hyperdrive import choice, loguniform\n",
        "\n",
        "ps = RandomParameterSampling(\n",
        "    {\n",
        "        '--base-checkpoint': choice(\"bert-base-cased\"), #, \"bert-base-cased\"), # , \"bert-large-cased\", \"microsoft/deberta-v3-small\", \"distilbert-base-uncased\", \"bert-base-uncased\", \"allenai/longformer-base-4096\"),\n",
        "        '--batch-size': choice(4),\n",
        "        '--no-epochs': choice(4),\n",
        "        '--learning-rate': choice(5e-5, 4.5e-5, 4e-5, 5.5e-5, 6e-5), #, 2.5e-5, 1e-5, 1.5e-5, 3e-5),\n",
        "        '--warmup-steps': choice(0),\n",
        "        '--weight-decay': choice(0.0),\n",
        "        '--adam-beta1': choice(0.9),\n",
        "        '--adam-beta2': choice(0.999),\n",
        "        '--adam-epsilon': choice(1e-8)\n",
        "    }\n",
        ")\n"
      ]
    },
    {
      "cell_type": "code",
      "execution_count": 18,
      "metadata": {
        "gather": {
          "logged": 1660712800379
        },
        "jupyter": {
          "outputs_hidden": false,
          "source_hidden": false
        },
        "nteract": {
          "transient": {
            "deleting": false
          }
        }
      },
      "outputs": [],
      "source": [
        "policy = BanditPolicy(evaluation_interval=5, slack_factor=0.1)\n"
      ]
    },
    {
      "cell_type": "code",
      "execution_count": 19,
      "metadata": {
        "gather": {
          "logged": 1660712800848
        },
        "jupyter": {
          "outputs_hidden": false,
          "source_hidden": false
        },
        "nteract": {
          "transient": {
            "deleting": false
          }
        }
      },
      "outputs": [],
      "source": [
        "hyperdrive_config = HyperDriveConfig(run_config=src,\n",
        "                                     hyperparameter_sampling=ps,\n",
        "                                     policy=policy,\n",
        "                                     primary_metric_name='eval_f1_weighted',\n",
        "                                     primary_metric_goal=PrimaryMetricGoal.MAXIMIZE,\n",
        "                                     max_total_runs=20,\n",
        "                                     max_concurrent_runs=3)\n"
      ]
    },
    {
      "cell_type": "code",
      "execution_count": 20,
      "metadata": {
        "gather": {
          "logged": 1660712802727
        },
        "jupyter": {
          "outputs_hidden": false,
          "source_hidden": false
        },
        "nteract": {
          "transient": {
            "deleting": false
          }
        }
      },
      "outputs": [
        {
          "name": "stderr",
          "output_type": "stream",
          "text": [
            "Converting non-string tag to string: (dataset_tags: {'top': '120', 'total_records': '142820', 'period': 'REPORT_MONTH >= 201808', 'ratio': '80%', 'description': 'all records since [201808] but OTHER from [202107]', 'valid_period': '202105', 'logic': 'v4', 'owner groups': \"['DC000203', 'DC000130', 'DC000216', 'NW000400', 'DC000132', 'DC000141', 'NW000414', 'NW000403', 'OTHER', 'ENT00005', 'NW000438', 'DC000200', 'EDC00054', 'ITS00313', 'SM000562', 'ITS00374', 'DC000107', 'NW000417', 'DC000111', 'DC000133', 'DC000222', 'ITS00330', 'DC000202', 'NW000429', 'EDC00089', 'ITS00335', 'ITS00380', 'DC000139', 'DC000178', 'SM000537', 'ITS00368', 'ITS00306', 'DC000152', 'NW000433', 'NW000459', 'ITS00343', 'DC000113', 'DC000115', 'NW000489', 'ITS00376', 'ITS00340', 'NW000420', 'ITS00341', 'DC000205', 'DC000117', 'DC000210', 'NW000404', 'ITS00326', 'DC000119', 'EDC00029', 'ITS00345', 'DC000140', 'NW000453', 'EDC00095', 'DC000127', 'DC000188', 'DC000209', 'NW000405', 'DC000179', 'DC000236', 'ITS00375', 'DC000155', 'DC000191', 'SM000557', 'SM000502', 'EDC00006', 'NW000428', 'NW000508', 'ITS00332', 'NW000483', 'ITS00381', 'DC000135', 'DC000198', 'NW000448', 'EDC00031', 'DC000237', 'DC000108', 'DC000242', 'NW000481', 'NW000509', 'DC000122', 'NS000115', 'NW000463', 'DC000128', 'DC000224', 'ITS00344', 'NW000430', 'NS000116', 'DC000129', 'NW000431', 'SM000585', 'EDC00075', 'ITS00373', 'NS000117', 'DC000254', 'DC000223', 'ITS00327', 'DC000131', 'DC000221', 'EDC00025', 'ITS00378', 'DC000110', 'SM000588', 'EDC00024', 'EDC00040', 'NW000444', 'NW000521', 'DC000246', 'ITS00108', 'ITS00342', 'NW000490', 'NW000503', 'NW000449', 'SM000586', 'DC000257', 'DC000176', 'ITS00325', 'DC000279', 'DC000263', 'NW000517', 'DC000262']\"})\n"
          ]
        }
      ],
      "source": [
        "hyperdrive_run = exp.submit(config=hyperdrive_config, tags={\"dataset_tags\": ds_train.tags})\n"
      ]
    },
    {
      "cell_type": "code",
      "execution_count": 21,
      "metadata": {
        "gather": {
          "logged": 1660712803262
        },
        "jupyter": {
          "outputs_hidden": false,
          "source_hidden": false
        },
        "nteract": {
          "transient": {
            "deleting": false
          }
        }
      },
      "outputs": [
        {
          "data": {
            "text/html": [
              "<table style=\"width:100%\"><tr><th>Experiment</th><th>Id</th><th>Type</th><th>Status</th><th>Details Page</th><th>Docs Page</th></tr><tr><td>transformer_hp</td><td>HD_167b99cc-3e5f-4444-8d1f-3771f91b3221</td><td>hyperdrive</td><td>Running</td><td><a href=\"https://ml.azure.com/runs/HD_167b99cc-3e5f-4444-8d1f-3771f91b3221?wsid=/subscriptions/105efa68-0ff4-486f-ae3a-86e28a447237/resourcegroups/scsc-dsai-aide-dev-rg/workspaces/scsccps-dsai-aide-dev-mlw&amp;tid=8c1a4d93-d828-4d0e-9303-fd3bd611c822\" target=\"_blank\" rel=\"noopener\">Link to Azure Machine Learning studio</a></td><td><a href=\"https://docs.microsoft.com/en-us/python/api/overview/azure/ml/intro?view=azure-ml-py\" target=\"_blank\" rel=\"noopener\">Link to Documentation</a></td></tr></table>"
            ],
            "text/plain": [
              "Run(Experiment: transformer_hp,\n",
              "Id: HD_167b99cc-3e5f-4444-8d1f-3771f91b3221,\n",
              "Type: hyperdrive,\n",
              "Status: Running)"
            ]
          },
          "execution_count": 21,
          "metadata": {},
          "output_type": "execute_result"
        }
      ],
      "source": [
        "hyperdrive_run\n"
      ]
    },
    {
      "cell_type": "code",
      "execution_count": null,
      "metadata": {},
      "outputs": [],
      "source": []
    }
  ],
  "metadata": {
    "kernel_info": {
      "name": "python38-azureml"
    },
    "kernelspec": {
      "display_name": "Python 3.8 - AzureML",
      "language": "python",
      "name": "python38-azureml"
    },
    "language_info": {
      "codemirror_mode": {
        "name": "ipython",
        "version": 3
      },
      "file_extension": ".py",
      "mimetype": "text/x-python",
      "name": "python",
      "nbconvert_exporter": "python",
      "pygments_lexer": "ipython3",
      "version": "3.8.5"
    },
    "microsoft": {
      "host": {
        "AzureML": {
          "notebookHasBeenCompleted": true
        }
      }
    },
    "nteract": {
      "version": "nteract-front-end@1.0.0"
    }
  },
  "nbformat": 4,
  "nbformat_minor": 2
}
