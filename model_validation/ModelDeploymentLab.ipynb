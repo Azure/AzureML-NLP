{
  "cells": [
    {
      "cell_type": "code",
      "execution_count": 48,
      "metadata": {},
      "outputs": [
        {
          "name": "stdout",
          "output_type": "stream",
          "text": [
            "SDK version: 1.44.0\n"
          ]
        }
      ],
      "source": [
        "import os\n",
        "import azureml.core\n",
        "import pandas as pd\n",
        "from azureml.core.runconfig import JarLibrary\n",
        "from azureml.core.compute import ComputeTarget, DatabricksCompute\n",
        "from azureml.exceptions import ComputeTargetException\n",
        "from azureml.core.datastore import Datastore\n",
        "from azureml.data.data_reference import DataReference\n",
        "from azureml.core.databricks import PyPiLibrary\n",
        "\n",
        "from azureml.train.hyperdrive import RandomParameterSampling, BanditPolicy, HyperDriveConfig, PrimaryMetricGoal\n",
        "from azureml.core import Workspace, Environment, Experiment, Datastore, Dataset, ScriptRunConfig\n",
        "from azureml.pipeline.core import Pipeline, PipelineData, TrainingOutput\n",
        "from azureml.pipeline.steps import DatabricksStep, PythonScriptStep\n",
        "from azureml.train.hyperdrive import choice, loguniform\n",
        "\n",
        "# Check core SDK version number\n",
        "print(\"SDK version:\", azureml.core.VERSION)\n"
      ]
    },
    {
      "cell_type": "code",
      "execution_count": 49,
      "metadata": {},
      "outputs": [
        {
          "name": "stdout",
          "output_type": "stream",
          "text": [
            "scsccps-dsai-aide-dev-mlw\n",
            "scsc-dsai-aide-dev-rg\n",
            "canadacentral\n",
            "105efa68-0ff4-486f-ae3a-86e28a447237\n"
          ]
        }
      ],
      "source": [
        "ws = Workspace.from_config()\n",
        "print(ws.name, ws.resource_group, ws.location, ws.subscription_id, sep = '\\n')\n"
      ]
    },
    {
      "cell_type": "code",
      "execution_count": 50,
      "metadata": {},
      "outputs": [],
      "source": [
        "from azure.ai.ml import MLClient\n",
        "from azure.ai.ml.entities import (\n",
        "    ManagedOnlineEndpoint,\n",
        "    ManagedOnlineDeployment,\n",
        "    Model,\n",
        "    Environment,\n",
        "    CodeConfiguration,\n",
        ")\n",
        "\n",
        "from azure.identity import DefaultAzureCredential\n"
      ]
    },
    {
      "cell_type": "code",
      "execution_count": 51,
      "metadata": {},
      "outputs": [],
      "source": [
        "ml_client = MLClient(\n",
        "    DefaultAzureCredential(), ws.subscription_id, ws.resource_group, ws.name\n",
        ")\n"
      ]
    },
    {
      "cell_type": "code",
      "execution_count": 52,
      "metadata": {},
      "outputs": [],
      "source": [
        "import datetime\n",
        "\n",
        "online_endpoint_name = \"endpoint-\" + datetime.datetime.now().strftime(\"%m%d%H%M%f\")\n",
        "\n",
        "# create an online endpoint\n",
        "endpoint = ManagedOnlineEndpoint(\n",
        "    name=online_endpoint_name,\n",
        "    description=\"this is the online endpoint for the service desk model\",\n",
        "    auth_mode=\"key\"\n",
        ")\n"
      ]
    },
    {
      "cell_type": "code",
      "execution_count": 53,
      "metadata": {},
      "outputs": [
        {
          "data": {
            "text/plain": [
              "ManagedOnlineEndpoint({'public_network_access': 'Enabled', 'provisioning_state': 'Succeeded', 'scoring_uri': 'https://endpoint-09131701520496.canadacentral.inference.ml.azure.com/score', 'swagger_uri': 'https://endpoint-09131701520496.canadacentral.inference.ml.azure.com/swagger.json', 'name': 'endpoint-09131701520496', 'description': 'this is the online endpoint for the service desk model', 'tags': {'ClientOrganization': 'Sc', 'CloudUsageProfile': '1', 'DataSensitivity': 'Unclassified', 'Environment': 'Sandbox', 'ProjectEmail': 'Scott.Syms@ssc-spc.gc.ca', 'ProjectName': 'DSAI', 'TechnicalEmail': 'Scott.Syms@ssc-spc.gc.ca'}, 'properties': {'azureml.onlineendpointid': '/subscriptions/105efa68-0ff4-486f-ae3a-86e28a447237/resourcegroups/scsc-dsai-aide-dev-rg/providers/microsoft.machinelearningservices/workspaces/scsccps-dsai-aide-dev-mlw/onlineendpoints/endpoint-09131701520496', 'AzureAsyncOperationUri': 'https://management.azure.com/subscriptions/105efa68-0ff4-486f-ae3a-86e28a447237/providers/Microsoft.MachineLearningServices/locations/canadacentral/mfeOperationsStatus/oe:4b7c2058-429e-460f-92f5-78b9aa2304e0:a0d97f9a-bf42-4532-89d8-dd6909fa64ed?api-version=2022-02-01-preview'}, 'id': '/subscriptions/105efa68-0ff4-486f-ae3a-86e28a447237/resourceGroups/scsc-dsai-aide-dev-rg/providers/Microsoft.MachineLearningServices/workspaces/scsccps-dsai-aide-dev-mlw/onlineEndpoints/endpoint-09131701520496', 'base_path': './', 'creation_context': None, 'serialize': <msrest.serialization.Serializer object at 0x7efd1fbaaca0>, 'auth_mode': 'key', 'location': 'canadacentral', 'identity': <azure.ai.ml._restclient.v2022_02_01_preview.models._models_py3.ManagedServiceIdentity object at 0x7efd1fbaad60>, 'traffic': {}, 'mirror_traffic': {}, 'kind': 'Managed'})"
            ]
          },
          "execution_count": 53,
          "metadata": {},
          "output_type": "execute_result"
        }
      ],
      "source": [
        "ml_client.online_endpoints.begin_create_or_update(endpoint)\n"
      ]
    },
    {
      "cell_type": "code",
      "execution_count": 54,
      "metadata": {},
      "outputs": [],
      "source": [
        "# env = ml_client.environments.get(name='Transformer-DeBerta', label='latest')\n",
        "\n",
        "env = Environment(\n",
        "    image=\"4b7c2058429e460f92f578b9aa2304e0.azurecr.io/azureml/azureml_4e49e7118305b1846866bfb3b7c7290f\",\n",
        ")\n"
      ]
    },
    {
      "cell_type": "code",
      "execution_count": 56,
      "metadata": {},
      "outputs": [],
      "source": [
        "dir = 'output'\n",
        "prefix_path = \"outputs/model\"\n",
        "model_directory = f'{dir}/{prefix_path}'\n",
        "\n",
        "model = Model(path=model_directory)\n"
      ]
    },
    {
      "cell_type": "code",
      "execution_count": 57,
      "metadata": {},
      "outputs": [],
      "source": [
        "blue_deployment = ManagedOnlineDeployment(\n",
        "    name=\"blue\",\n",
        "    endpoint_name=online_endpoint_name,\n",
        "    model=model,\n",
        "    environment=env,\n",
        "    code_configuration=CodeConfiguration(\n",
        "        code=model_directory, scoring_script=\"score.py\"\n",
        "    ),\n",
        "    instance_type=\"Standard_F2s_v2\",\n",
        "    instance_count=1,\n",
        ")\n"
      ]
    },
    {
      "cell_type": "code",
      "execution_count": 58,
      "metadata": {},
      "outputs": [
        {
          "name": "stderr",
          "output_type": "stream",
          "text": [
            "Check: endpoint endpoint-09131701520496 exists\n",
            "Your file exceeds 100 MB. If you experience low upload speeds or latency, we recommend using the AzCopy tool for this file transfer. See https://docs.microsoft.com/azure/storage/common/storage-use-azcopy-v10 for more information.\n",
            "\u001b[32mUploading model (433.93 MBs): 100%|████████████████████████████████████████████████████████████████████████████████████████████████████████████████████████████████████████████████████████████████████████████████████████████████████████████████████████████████████████████████████████████████████████████████████████████████████████████████████████████████████████████████████████████████████████████████████████████████████████████████████████████████████████████████████████████████████████████████████████████████████████████████████████████████████████████████████████████████████████████████████████████████████████████████████████████████████████████████████████████████████████████████████████████████████████████████████████████████████████████████████████████████████████████████████████████████████████████████████████████████████████████████████████████████████████████████████████████████████████████████████████████████████████████████| 433934462/433934462 [00:06<00:00, 62167649.30it/s]\u001b[0m\n",
            "\u001b[39m\n",
            "\n",
            "Your file exceeds 100 MB. If you experience low upload speeds or latency, we recommend using the AzCopy tool for this file transfer. See https://docs.microsoft.com/azure/storage/common/storage-use-azcopy-v10 for more information.\n",
            "Creating/updating online deployment blue "
          ]
        },
        {
          "name": "stdout",
          "output_type": "stream",
          "text": [
            ".........................................................................................................................................................................................................."
          ]
        },
        {
          "name": "stderr",
          "output_type": "stream",
          "text": [
            "Done (18m 28s)\n"
          ]
        }
      ],
      "source": [
        "ml_client.begin_create_or_update(blue_deployment)\n"
      ]
    },
    {
      "cell_type": "code",
      "execution_count": 64,
      "metadata": {},
      "outputs": [
        {
          "data": {
            "text/plain": [
              "ManagedOnlineDeployment({'private_network_connection': False, 'egress_public_network_access': 'Enabled', 'provisioning_state': 'Succeeded', 'endpoint_name': 'endpoint-09131701520496', 'type': 'Managed', 'name': 'blue', 'description': None, 'tags': {'ClientOrganization': 'Sc', 'CloudUsageProfile': '1', 'DataSensitivity': 'Unclassified', 'Environment': 'Sandbox', 'ProjectEmail': 'Scott.Syms@ssc-spc.gc.ca', 'ProjectName': 'DSAI', 'TechnicalEmail': 'Scott.Syms@ssc-spc.gc.ca'}, 'properties': {'AzureAsyncOperationUri': 'https://management.azure.com/subscriptions/105efa68-0ff4-486f-ae3a-86e28a447237/providers/Microsoft.MachineLearningServices/locations/canadacentral/mfeOperationsStatus/od:4b7c2058-429e-460f-92f5-78b9aa2304e0:28d78c82-f340-4584-9537-93fdde779304?api-version=2022-02-01-preview'}, 'id': '/subscriptions/105efa68-0ff4-486f-ae3a-86e28a447237/resourceGroups/scsc-dsai-aide-dev-rg/providers/Microsoft.MachineLearningServices/workspaces/scsccps-dsai-aide-dev-mlw/onlineEndpoints/endpoint-09131701520496/deployments/blue', 'base_path': './', 'creation_context': None, 'serialize': <msrest.serialization.Serializer object at 0x7efd1f36bd60>, 'model': '/subscriptions/105efa68-0ff4-486f-ae3a-86e28a447237/resourceGroups/scsc-dsai-aide-dev-rg/providers/Microsoft.MachineLearningServices/workspaces/scsccps-dsai-aide-dev-mlw/models/7798e613d188144acee0edb5b847a4ef/versions/1', 'code_configuration': <azure.ai.ml.entities._deployment.code_configuration.CodeConfiguration object at 0x7efd1f350f40>, 'environment': '/subscriptions/105efa68-0ff4-486f-ae3a-86e28a447237/resourceGroups/scsc-dsai-aide-dev-rg/providers/Microsoft.MachineLearningServices/workspaces/scsccps-dsai-aide-dev-mlw/environments/CliV2AnonymousEnvironment/versions/8243972314cb4a8ee00b1b5da26cc261', 'environment_variables': {}, 'app_insights_enabled': False, 'scale_settings': <azure.ai.ml.entities._deployment.scale_settings.DefaultScaleSettings object at 0x7efd1f350700>, 'request_settings': <azure.ai.ml.entities._deployment.deployment_settings.OnlineRequestSettings object at 0x7efd1f350c70>, 'liveness_probe': <azure.ai.ml.entities._deployment.deployment_settings.ProbeSettings object at 0x7efd1f36b5e0>, 'readiness_probe': <azure.ai.ml.entities._deployment.deployment_settings.ProbeSettings object at 0x7efd1f36ba00>, 'instance_count': 1, 'arm_type': 'online_deployment', 'model_mount_path': None, 'instance_type': 'Standard_F2s_v2'})"
            ]
          },
          "execution_count": 64,
          "metadata": {},
          "output_type": "execute_result"
        }
      ],
      "source": [
        "endpoint_dep = ml_client.online_deployments.get(endpoint_name='endpoint-09131701520496', name='blue')\n",
        "endpoint_dep"
      ]
    },
    {
      "cell_type": "code",
      "execution_count": 78,
      "metadata": {},
      "outputs": [],
      "source": [
        "result = ml_client.online_endpoints.invoke(\n",
        "    endpoint_name=online_endpoint_name,\n",
        "    deployment_name=\"blue\",\n",
        "    request_file='../project/sample_request.json')"
      ]
    },
    {
      "cell_type": "code",
      "execution_count": 81,
      "metadata": {},
      "outputs": [
        {
          "data": {
            "text/plain": [
              "['EDC00075', 'ITS00340']"
            ]
          },
          "execution_count": 81,
          "metadata": {},
          "output_type": "execute_result"
        }
      ],
      "source": [
        "list(eval(result))"
      ]
    },
    {
      "cell_type": "code",
      "execution_count": 87,
      "metadata": {},
      "outputs": [],
      "source": [
        "deploy_name = \"blue\"\n",
        "\n",
        "li_to_be_deleted_dep = []\n",
        "for deployment in ml_client.online_deployments.list(online_endpoint_name):\n",
        "    if deploy_name != i.name:\n",
        "        li_to_be_deleted_dep.append(i.name)"
      ]
    },
    {
      "cell_type": "code",
      "execution_count": null,
      "metadata": {},
      "outputs": [],
      "source": [
        "for online_deployment in li_to_be_deleted_dep:\n",
        "    ml_client.online_deployments.delete(name=online_deployment, endpoint_name=online_endpoint_name)\n"
      ]
    },
    {
      "cell_type": "code",
      "execution_count": 88,
      "metadata": {},
      "outputs": [],
      "source": [
        "ws.write_config()"
      ]
    },
    {
      "cell_type": "code",
      "execution_count": 89,
      "metadata": {},
      "outputs": [
        {
          "ename": "TypeError",
          "evalue": "from_config() missing 1 required positional argument: 'credential'",
          "output_type": "error",
          "traceback": [
            "\u001b[0;31m---------------------------------------------------------------------------\u001b[0m",
            "\u001b[0;31mTypeError\u001b[0m                                 Traceback (most recent call last)",
            "\u001b[1;32m/home/azureuser/cloudfiles/code/Users/hosarsha/og_classification/model_validation/ModelDeploymentLab.ipynb Cell 17\u001b[0m in \u001b[0;36m<cell line: 1>\u001b[0;34m()\u001b[0m\n\u001b[0;32m----> <a href='vscode-notebook-cell://amlext%2B2f737562736372697074696f6e732f31303565666136382d306666342d343836662d616533612d3836653238613434373233372f7265736f7572636547726f7570732f536353632d445341492d414944452d6465762d72672f70726f7669646572732f4d6963726f736f66742e4d616368696e654c6561726e696e6753657276696365732f776f726b7370616365732f536353634350532d445341492d414944452d6465762d6d6c772f636f6d70757465732f486f737365696e2d4e43362d4349/home/azureuser/cloudfiles/code/Users/hosarsha/og_classification/model_validation/ModelDeploymentLab.ipynb#X50sdnNjb2RlLXJlbW90ZQ%3D%3D?line=0'>1</a>\u001b[0m ml_client2 \u001b[39m=\u001b[39m MLClient\u001b[39m.\u001b[39;49mfrom_config()\n",
            "\u001b[0;31mTypeError\u001b[0m: from_config() missing 1 required positional argument: 'credential'"
          ]
        }
      ],
      "source": [
        "ml_client2 = MLClient.from_config()"
      ]
    },
    {
      "cell_type": "code",
      "execution_count": null,
      "metadata": {},
      "outputs": [],
      "source": []
    }
  ],
  "metadata": {
    "kernel_info": {
      "name": "python38-azureml"
    },
    "kernelspec": {
      "display_name": "Python 3.8 - AzureML",
      "language": "python",
      "name": "python38-azureml"
    },
    "language_info": {
      "codemirror_mode": {
        "name": "ipython",
        "version": 3
      },
      "file_extension": ".py",
      "mimetype": "text/x-python",
      "name": "python",
      "nbconvert_exporter": "python",
      "pygments_lexer": "ipython3",
      "version": "3.8.5"
    },
    "nteract": {
      "version": "nteract-front-end@1.0.0"
    }
  },
  "nbformat": 4,
  "nbformat_minor": 2
}
